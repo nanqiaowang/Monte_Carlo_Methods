{
 "cells": [
  {
   "cell_type": "code",
   "execution_count": 2,
   "metadata": {},
   "outputs": [],
   "source": [
    "class HMC_Machine:\n",
    "    def __init__(self, L = 20, epsilon = 0.1, num_simu = 1000):\n",
    "        '''\n",
    "        U is the energy function,\n",
    "        grad_U is the gradient of U, \n",
    "        L is the number of steps is L, \n",
    "        epsilon is the step size in leapfrog.\n",
    "        '''\n",
    "        from numpy.random import multivariate_normal as mvn\n",
    "        from numpy.random import uniform as unif\n",
    "        from copy import deepcopy\n",
    "        \n",
    "        #import numpy as np\n",
    "        \n",
    "        #self.np = np\n",
    "        self.deepcopy = deepcopy\n",
    "        self.mvn = mvn\n",
    "        self.unif = unif\n",
    "        self.L = L\n",
    "        self.epsilon = epsilon\n",
    "        self.num_simu = num_simu\n",
    "        self.deepcopy = deepcopy\n",
    "    def f2(self,x):\n",
    "        return self.U(x)\n",
    "    \n",
    "    def HMC(self, U, grad_U, current_q, L, epsilon, num_simu):\n",
    "        '''\n",
    "        q is the position variable that you want to sample,\n",
    "        current_q is the initial point,\n",
    "        p is the momentum variable.\n",
    "        Currently mass matrix is assumed to be identity matrix.\n",
    "        '''\n",
    "        import numpy as np\n",
    "        if not grad_U or not U:\n",
    "            return 'Wrong'\n",
    "        self.U = U\n",
    "        self.grad_U = grad_U\n",
    "        self.L = L\n",
    "        self.epsilon = epsilon\n",
    "        self.num_simu = num_simu\n",
    "        deepcopy = self.deepcopy\n",
    "        #q = deepcopy(current_q)\n",
    "        dim_q = len(current_q)\n",
    "        trajectory = np.zeros((num_simu,dim_q))\n",
    "        \n",
    "        for sim in range(num_simu):\n",
    "            q = deepcopy(current_q) + 0.0\n",
    "            current_p = self.mvn(mean = [0]*dim_q, cov = np.identity(dim_q), size = 1).flatten()\n",
    "            p = deepcopy(current_p) + 0.0\n",
    "            p -= epsilon * grad_U(q) / 2 #half step update for momentum p\n",
    "           \n",
    "            for i in range(L-1):\n",
    "                q += epsilon * p\n",
    "                p -= epsilon * grad_U(q)\n",
    "            q += epsilon * p\n",
    "            p -= epsilon * grad_U(q) / 2\n",
    "            #print(p,q)\n",
    "            current_U = U(current_q)\n",
    "            candidate_U = U(q)\n",
    "            current_K = np.sum(current_p ** 2) / 2\n",
    "            candidate_K = np.sum(p ** 2) / 2\n",
    "            \n",
    "            if self.unif(low = 0, high = 1) < np.exp(current_U + current_K - candidate_U - candidate_K):\n",
    "                trajectory[sim,:] = deepcopy(q)\n",
    "                current_q = deepcopy(q)\n",
    "            else:\n",
    "                trajectory[sim,:] =  deepcopy(current_q)  \n",
    "        return trajectory\n",
    "\n",
    "    def MCMC(self, U, current_x, num_simu):\n",
    "        '''\n",
    "        U is the negate of log likelihood function,\n",
    "        current_x is the initial point.\n",
    "        Here, the proposal function is chosen to be guassian distribution,\n",
    "        so it is symmetric, which further leads to that we don't need to compute them\n",
    "        in our accept probability.\n",
    "        '''\n",
    "        import numpy as np\n",
    "        if not U: \n",
    "            return 'Wrong'\n",
    "        self.num_simu = num_simu\n",
    "        deepcopy = self.deepcopy\n",
    "        dim_x = len(current_x)\n",
    "        trajectory = np.zeros((num_simu,dim_x))\n",
    "        for sim in range(num_simu):\n",
    "            #x = deep.copy(current_x)\n",
    "            #proposed_x = self.mvn(mean = [0]*dim_x, cov = np.identity(dim_x), size = 1).flatten()\n",
    "            proposed_x = self.mvn(mean = current_x, cov = np.identity(dim_x), size = 1).flatten()\n",
    "            if self.unif(low = 0, high = 1) < np.exp(U(current_x) - U(proposed_x)):\n",
    "                trajectory[sim,:] = proposed_x\n",
    "                current_x = deepcopy(proposed_x)\n",
    "            else:\n",
    "                trajectory[sim,:] = current_x\n",
    "        return trajectory"
   ]
  },
  {
   "cell_type": "code",
   "execution_count": 3,
   "metadata": {},
   "outputs": [],
   "source": [
    "#no deepcopy version\n",
    "class HMC_Machine:\n",
    "    def __init__(self, L = 20, epsilon = 0.1, num_simu = 1000):\n",
    "        '''\n",
    "        U is the energy function,\n",
    "        grad_U is the gradient of U, \n",
    "        L is the number of steps is L, \n",
    "        epsilon is the step size in leapfrog.\n",
    "        '''\n",
    "        from numpy.random import multivariate_normal as mvn\n",
    "        from numpy.random import uniform as unif\n",
    "        from numpy.random import normal\n",
    "        #from copy import deepcopy\n",
    "        #import numpy as np\n",
    "        #self.np = np\n",
    "        self.mvn = mvn\n",
    "        self.unif = unif\n",
    "        self.L = L\n",
    "        self.epsilon = epsilon\n",
    "        self.num_simu = num_simu\n",
    "        self.normal = normal\n",
    "\n",
    "        \n",
    "    def HMC(self, U, grad_U, current_q, L, epsilon, num_simu):\n",
    "        '''\n",
    "        q is the position variable that you want to sample,\n",
    "        current_q is the initial point,\n",
    "        p is the momentum variable.\n",
    "        Currently mass matrix is assumed to be identity matrix.\n",
    "        '''\n",
    "        import numpy as np\n",
    "        if not grad_U or not U:\n",
    "            return 'Wrong'\n",
    "        self.U = U\n",
    "        self.grad_U = grad_U\n",
    "        self.L = L\n",
    "        self.epsilon = epsilon\n",
    "        self.num_simu = num_simu\n",
    "    \n",
    "        dim_q = len(current_q)\n",
    "        trajectory = np.zeros((num_simu,dim_q))\n",
    "        current_q += 0.0\n",
    "        p_initials = self.normal(0, 1, dim_q * num_simu).reshape(num_simu, dim_q)\n",
    "        #np.dot()\n",
    "        unif_numbers = self.unif(low = 0, high = 1, size = num_simu)\n",
    "        count = 0.0\n",
    "        \n",
    "        for sim in range(num_simu):\n",
    "\n",
    "            q = current_q + 0.0\n",
    "            \n",
    "            current_p = p_initials[sim,]\n",
    "            p = current_p + 0.0\n",
    "            \n",
    "            p -= epsilon * grad_U(q) / 2 #half step update for momentum p\n",
    "           \n",
    "            for i in range(L-1):\n",
    "                q += epsilon * p\n",
    "                p -= epsilon * grad_U(q)\n",
    "            q += epsilon * p\n",
    "            p -= epsilon * grad_U(q) / 2\n",
    "            \n",
    "            current_U = U(current_q)\n",
    "            candidate_U = U(q)\n",
    "            current_K = np.sum(current_p ** 2) / 2\n",
    "            candidate_K = np.sum(p ** 2) / 2\n",
    "            \n",
    "            tmp = np.exp(current_U + current_K - candidate_U - candidate_K)\n",
    "            if math.isinf(tmp):\n",
    "                print('inf number')\n",
    "            if math.isnan(tmp):\n",
    "                print('NaN number')\n",
    "            if self.unif(low = 0, high = 1) < tmp:\n",
    "                trajectory[sim,:] = q + 0.0\n",
    "                current_q = q + 0.0\n",
    "                count += 1\n",
    "            else:\n",
    "                trajectory[sim,:] = current_q \n",
    "\n",
    "        return trajectory, count / num_simu\n",
    "\n",
    "    def MCMC(self, U, current_x, num_simu, scale):\n",
    "        '''\n",
    "        U is the negate of log likelihood function,\n",
    "        current_x is the initial point.\n",
    "        Here, the proposal function is chosen to be guassian distribution,\n",
    "        so it is symmetric, which further leads to that we don't need to compute them\n",
    "        in our accept probability.\n",
    "        '''\n",
    "        \n",
    "        import numpy as np\n",
    "        if not U: \n",
    "            return 'Wrong'\n",
    "        self.num_simu = num_simu\n",
    "        dim_x = len(current_x)\n",
    "        trajectory = np.zeros((num_simu,dim_x))\n",
    "        unif_numbers = self.unif(low = 0, high = 1, size = num_simu)\n",
    "        count = 0.0\n",
    "        \n",
    "        for sim in range(num_simu):\n",
    "            #proposed_x = self.mvn(mean = [0]*dim_x, cov = np.identity(dim_x), size = 1).flatten()\n",
    "            #proposed_x = self.mvn(mean = current_x, cov = scale * np.identity(dim_x), size = 1).flatten()\n",
    "            proposed_x = np.dot(scale * np.identity(dim_x), self.normal(0, 1, dim_x).reshape(dim_x, -1)) + current_x.reshape(dim_x, -1)\n",
    "            \n",
    "            #print(proposed_x.shape)\n",
    "            if unif_numbers[sim] < np.exp(U(current_x) - U(proposed_x)):\n",
    "                trajectory[sim,:] = proposed_x.flatten()\n",
    "                current_x = proposed_x + 0.0\n",
    "                count += 1\n",
    "            else:\n",
    "                trajectory[sim,:] = current_x.flatten()\n",
    "        accept_rate = count / num_simu\n",
    "        return trajectory, accept_rate\n",
    "    "
   ]
  },
  {
   "cell_type": "code",
   "execution_count": null,
   "metadata": {},
   "outputs": [],
   "source": []
  },
  {
   "cell_type": "code",
   "execution_count": 66,
   "metadata": {},
   "outputs": [],
   "source": [
    "# u = np.array([2,1])\n",
    "# cov = [[2, -2], [-2, 5]]\n",
    "dim = 20\n",
    "a = np.zeros((dim,dim));\n",
    "a[~np.eye(a.shape[0],dtype=bool)] = -0.5\n",
    "a[np.eye(a.shape[0],dtype=bool)] = np.array(range(dim)) + 10;a\n",
    "cov = a\n",
    "u = 10 + np.random.normal(0, 1, dim)\n",
    "\n",
    "\n",
    "def negate_mvn_logpdf(x):\n",
    "    import numpy as np\n",
    "  # x, u are like (3,) or (3,1)\n",
    "  # this function can fail in multiple ways\n",
    "    k = len(u)               # scalar like 3\n",
    "    uu = u.reshape(k, 1)     # like 3x1\n",
    "    xx = x.reshape(k, 1)     # like 3x1\n",
    "\n",
    "    t1 = (2 * np.pi)**k          # scalar\n",
    "    t2 = np.linalg.det(cov)      # scalar\n",
    "    t3 = 1.0 / np.sqrt(t1 * t2)  # scalar \n",
    "\n",
    "    t4 = (xx - uu).T          # shape like 1x3 \n",
    "    t5 = np.linalg.inv(cov)   # like 3x3\n",
    "    t6 = (xx - uu)            # like 3x1\n",
    "    t7 = -0.5 * (np.dot(t4,t5).dot(t6))\n",
    "    #             1x3  3x3     3x1 = 1x1\n",
    "    result = t3 * np.exp(t7)  # 1x1\n",
    "    \n",
    "    result = np.exp(-0.5 * (np.dot((xx - uu).T, np.linalg.inv(cov)).dot((xx - uu)))) / np.sqrt(t1 * t2) # 1x1\n",
    "    #print(result)\n",
    "    #print(0.5 * (np.dot((xx - uu).T, np.linalg.inv(cov)).dot((xx - uu))) + k * np.log(2*np.pi) / 2.0 + np.log(np.linalg.det(cov))/2.0 )\n",
    "    return 0.5 * (np.dot((xx - uu).T, np.linalg.inv(cov)).dot((xx - uu))) + k * np.log(2*np.pi) / 2.0 + np.log(np.linalg.det(cov))/2.0 \n",
    "    #return -np.log(result[0][0])\n",
    "\n",
    "def grad_negate_mvn_logpdf(x):\n",
    "    import numpy as np\n",
    "    k = len(u) \n",
    "    uu = u.reshape(k, 1)     # like 3x1\n",
    "    xx = x.reshape(k, 1)     # like 3x1\n",
    "    result = np.dot(np.linalg.inv(cov),(xx - uu))\n",
    "    return result[0][0]"
   ]
  },
  {
   "cell_type": "code",
   "execution_count": null,
   "metadata": {},
   "outputs": [],
   "source": []
  },
  {
   "cell_type": "code",
   "execution_count": 67,
   "metadata": {},
   "outputs": [
    {
     "data": {
      "text/plain": [
       "1.918726467815602e+25"
      ]
     },
     "execution_count": 67,
     "metadata": {},
     "output_type": "execute_result"
    }
   ],
   "source": [
    "np.linalg.det(cov)"
   ]
  },
  {
   "cell_type": "code",
   "execution_count": 68,
   "metadata": {},
   "outputs": [],
   "source": [
    "import math\n",
    "simulator = HMC_Machine()"
   ]
  },
  {
   "cell_type": "code",
   "execution_count": null,
   "metadata": {},
   "outputs": [],
   "source": []
  },
  {
   "cell_type": "code",
   "execution_count": 100,
   "metadata": {},
   "outputs": [
    {
     "data": {
      "image/png": "[encoded data removed]",
      "text/plain": [
       "<Figure size 432x288 with 1 Axes>"
      ]
     },
     "metadata": {
      "needs_background": "light"
     },
     "output_type": "display_data"
    }
   ],
   "source": [
    "#x,y = np.random.multivariate_normal(u,cov,1000).T\n",
    "samples = np.random.multivariate_normal(u,cov,10000)\n",
    "import matplotlib.pyplot as plt\n",
    "plt.scatter(samples[:,3], samples[:,19])\n",
    "lx,ux = min(samples[:,3]), max(samples[:,3])\n",
    "ly,uy = min(samples[:,19]), max(samples[:,19])\n",
    "#plt.xlim([lx,ux])\n",
    "#plt.ylim([ly,uy])\n",
    "plt.show();"
   ]
  },
  {
   "cell_type": "code",
   "execution_count": 79,
   "metadata": {},
   "outputs": [],
   "source": [
    "#init_point = u + np.random.normal(0, 5, dim)\n",
    "#samples2 = simulator.MCMC(partial(negate_mvn_logpdf,u = np.array([1]), cov =  np.array([1])),init_point,num_simu=20000)\n",
    "\n"
   ]
  },
  {
   "cell_type": "code",
   "execution_count": 80,
   "metadata": {},
   "outputs": [
    {
     "data": {
      "text/plain": [
       "(20000, 20)"
      ]
     },
     "execution_count": 80,
     "metadata": {},
     "output_type": "execute_result"
    }
   ],
   "source": [
    "samples2.shape"
   ]
  },
  {
   "cell_type": "code",
   "execution_count": 81,
   "metadata": {},
   "outputs": [],
   "source": [
    "init_point = u + np.random.normal(0, 5, dim)"
   ]
  },
  {
   "cell_type": "code",
   "execution_count": 97,
   "metadata": {},
   "outputs": [],
   "source": [
    "samples2, accept_rate = simulator.MCMC(negate_mvn_logpdf,init_point,scale = 0.2, num_simu=10000)"
   ]
  },
  {
   "cell_type": "code",
   "execution_count": 98,
   "metadata": {},
   "outputs": [
    {
     "data": {
      "text/plain": [
       "0.925"
      ]
     },
     "execution_count": 98,
     "metadata": {},
     "output_type": "execute_result"
    }
   ],
   "source": [
    "accept_rate"
   ]
  },
  {
   "cell_type": "code",
   "execution_count": 99,
   "metadata": {},
   "outputs": [
    {
     "data": {
      "image/png": "[encoded data removed]",
      "text/plain": [
       "<Figure size 432x288 with 1 Axes>"
      ]
     },
     "metadata": {
      "needs_background": "light"
     },
     "output_type": "display_data"
    }
   ],
   "source": [
    "import matplotlib.pyplot as plt\n",
    "plt.scatter(samples2[:,3], samples2[:,19])\n",
    "# plt.xlim([lx,ux])\n",
    "# plt.ylim([ly,uy])\n",
    "plt.axvline(x=lx, color='r')\n",
    "plt.axvline(x=ux, color='r')\n",
    "plt.axhline(y=uy, color='r')\n",
    "plt.axhline(y=ly, color='r')\n",
    "plt.show();\n",
    "#np.cov(samples2.T)"
   ]
  },
  {
   "cell_type": "code",
   "execution_count": 94,
   "metadata": {},
   "outputs": [],
   "source": [
    "samples1,accept_rate = simulator.HMC(negate_mvn_logpdf,grad_negate_mvn_logpdf,init_point,L = 50, \n",
    "                                     epsilon = 0.02, num_simu=10000)"
   ]
  },
  {
   "cell_type": "code",
   "execution_count": 95,
   "metadata": {},
   "outputs": [
    {
     "data": {
      "text/plain": [
       "0.4682"
      ]
     },
     "execution_count": 95,
     "metadata": {},
     "output_type": "execute_result"
    }
   ],
   "source": [
    "accept_rate"
   ]
  },
  {
   "cell_type": "code",
   "execution_count": 96,
   "metadata": {},
   "outputs": [
    {
     "data": {
      "image/png": "[encoded data removed]",
      "text/plain": [
       "<Figure size 432x288 with 1 Axes>"
      ]
     },
     "metadata": {
      "needs_background": "light"
     },
     "output_type": "display_data"
    }
   ],
   "source": [
    "import matplotlib.pyplot as plt\n",
    "plt.scatter(samples1[:,3], samples1[:,19])\n",
    "# plt.xlim([lx,ux])\n",
    "# plt.ylim([ly,uy])\n",
    "plt.axvline(x=lx, color='r')\n",
    "plt.axvline(x=ux, color='r')\n",
    "plt.axhline(y=uy, color='r')\n",
    "plt.axhline(y=ly, color='r')\n",
    "plt.show();\n",
    "#np.cov(samples1.T)"
   ]
  },
  {
   "cell_type": "code",
   "execution_count": 298,
   "metadata": {},
   "outputs": [
    {
     "data": {
      "text/plain": [
       "array([ 1.,  2.,  3.,  4.,  5.,  6.,  7.,  8.,  9., 10., 11., 12., 13.,\n",
       "       14., 15., 16., 17., 18., 19., 20., 21., 22., 23., 24., 25., 26.,\n",
       "       27., 28., 29., 30., 31., 32., 33., 34., 35., 36., 37., 38., 39.,\n",
       "       40., 41., 42., 43., 44., 45., 46., 47., 48., 49., 50.])"
      ]
     },
     "execution_count": 298,
     "metadata": {},
     "output_type": "execute_result"
    }
   ],
   "source": [
    "np.mean(samples1, axis = 0)"
   ]
  },
  {
   "cell_type": "code",
   "execution_count": 299,
   "metadata": {},
   "outputs": [
    {
     "data": {
      "text/plain": [
       "array([ 0.99260991,  1.65787044,  2.61398059,  4.43291915,  4.85960658,\n",
       "        6.20909874,  6.90660325,  7.60995398,  8.68426742, 10.27955134,\n",
       "       10.77863702, 11.8649358 , 13.80373574, 14.60629137, 15.30205089,\n",
       "       17.94490761, 16.41484968, 16.351949  , 19.08188559, 19.18777688,\n",
       "       20.68297692, 21.88692973, 23.5601909 , 23.71783984, 26.59360784,\n",
       "       24.29257145, 27.10949883, 29.34439587, 28.83670624, 29.71259656,\n",
       "       31.9935705 , 32.46456355, 32.90434922, 34.41998044, 32.865883  ,\n",
       "       35.30162033, 36.68699829, 35.04256852, 38.8734996 , 43.31997461,\n",
       "       42.60335962, 44.01927914, 41.78902076, 44.98774806, 42.3417304 ,\n",
       "       48.3298596 , 47.24516563, 49.10676636, 48.66384389, 49.30194522])"
      ]
     },
     "execution_count": 299,
     "metadata": {},
     "output_type": "execute_result"
    }
   ],
   "source": [
    "np.mean(samples2, axis = 0)"
   ]
  },
  {
   "cell_type": "code",
   "execution_count": 300,
   "metadata": {},
   "outputs": [
    {
     "data": {
      "text/plain": [
       "array([[0., 0., 0., 0., 0., 0., 0.],\n",
       "       [0., 0., 0., 0., 0., 0., 0.],\n",
       "       [0., 0., 0., 0., 0., 0., 0.],\n",
       "       [0., 0., 0., 0., 0., 0., 0.],\n",
       "       [0., 0., 0., 0., 0., 0., 0.],\n",
       "       [0., 0., 0., 0., 0., 0., 0.],\n",
       "       [0., 0., 0., 0., 0., 0., 0.]])"
      ]
     },
     "execution_count": 300,
     "metadata": {},
     "output_type": "execute_result"
    }
   ],
   "source": [
    "np.round(np.cov(samples1.T)[0:7,0:7],2)"
   ]
  },
  {
   "cell_type": "code",
   "execution_count": 301,
   "metadata": {},
   "outputs": [
    {
     "data": {
      "text/plain": [
       "array([[10.573,  0.189, -0.222, -0.888, -2.156, -1.076, -1.738],\n",
       "       [ 0.189,  7.985, -0.618, -0.53 , -1.173, -0.671, -0.115],\n",
       "       [-0.222, -0.618, 13.246, -2.066, -0.955, -1.65 , -0.727],\n",
       "       [-0.888, -0.53 , -2.066, 13.813, -1.157, -0.151,  0.471],\n",
       "       [-2.156, -1.173, -0.955, -1.157, 16.148,  0.14 ,  0.136],\n",
       "       [-1.076, -0.671, -1.65 , -0.151,  0.14 , 14.082, -1.598],\n",
       "       [-1.738, -0.115, -0.727,  0.471,  0.136, -1.598, 13.185]])"
      ]
     },
     "execution_count": 301,
     "metadata": {},
     "output_type": "execute_result"
    }
   ],
   "source": [
    "np.round(np.cov(samples2.T)[0:7,0:7],3)"
   ]
  },
  {
   "cell_type": "code",
   "execution_count": 295,
   "metadata": {},
   "outputs": [
    {
     "data": {
      "text/plain": [
       "array([[10. , -0.5, -0.5, -0.5, -0.5, -0.5, -0.5],\n",
       "       [-0.5, 11. , -0.5, -0.5, -0.5, -0.5, -0.5],\n",
       "       [-0.5, -0.5, 12. , -0.5, -0.5, -0.5, -0.5],\n",
       "       [-0.5, -0.5, -0.5, 13. , -0.5, -0.5, -0.5],\n",
       "       [-0.5, -0.5, -0.5, -0.5, 14. , -0.5, -0.5],\n",
       "       [-0.5, -0.5, -0.5, -0.5, -0.5, 15. , -0.5],\n",
       "       [-0.5, -0.5, -0.5, -0.5, -0.5, -0.5, 16. ]])"
      ]
     },
     "execution_count": 295,
     "metadata": {},
     "output_type": "execute_result"
    }
   ],
   "source": [
    "cov[0:7,0:7]"
   ]
  },
  {
   "cell_type": "code",
   "execution_count": 133,
   "metadata": {},
   "outputs": [
    {
     "name": "stdout",
     "output_type": "stream",
     "text": [
      "--- 47.67466592788696 seconds ---\n"
     ]
    }
   ],
   "source": [
    "import time\n",
    "start_time = time.time()\n",
    "for i in range(10):\n",
    "    simulator.HMC(negate_mvn_logpdf,grad_negate_mvn_logpdf,np.ones(50),L = 20, epsilon = 0.025, num_simu=1000)\n",
    "print(\"--- %s seconds ---\" % (time.time() - start_time))\n",
    "\n",
    "#without deepcopy"
   ]
  },
  {
   "cell_type": "code",
   "execution_count": 126,
   "metadata": {},
   "outputs": [
    {
     "name": "stdout",
     "output_type": "stream",
     "text": [
      "--- 47.31628394126892 seconds ---\n"
     ]
    }
   ],
   "source": [
    "import time\n",
    "start_time = time.time()\n",
    "for i in range(10):\n",
    "    simulator.HMC(negate_mvn_logpdf,grad_negate_mvn_logpdf,np.ones(50),L = 20, epsilon = 0.025, num_simu=1000)\n",
    "print(\"--- %s seconds ---\" % (time.time() - start_time))"
   ]
  },
  {
   "cell_type": "code",
   "execution_count": null,
   "metadata": {},
   "outputs": [],
   "source": []
  },
  {
   "cell_type": "code",
   "execution_count": null,
   "metadata": {},
   "outputs": [],
   "source": []
  },
  {
   "cell_type": "code",
   "execution_count": 3,
   "metadata": {},
   "outputs": [],
   "source": [
    "# def log_L(Z, u, V, Beta, alpha, sigma):\n",
    "#     #compute full log likelihood of one sample\n",
    "#     #debug finished\n",
    "#     alpha = np.array(alpha).reshape((1, -1))\n",
    "#     Beta = np.array(Beta).reshape((len(Beta), -1))\n",
    "#     Z = np.array(Z).reshape((len(Z), -1))\n",
    "#     u = np.array(u).reshape((1, -1))\n",
    "#     V = np.array(V).reshape((len(V), -1))\n",
    "#     k = len(Z)\n",
    "#     tmp = np.dot(Z.T, Beta) + alpha   \n",
    "    \n",
    "#     result = tmp * (1 - u) - np.log(1 + np.exp(tmp)) - k * np.log(2 * np.pi) - k * np.log(sigma) - \\\n",
    "#             (0.5 * np.dot((Z - V).T, (Z - V)) / (sigma ** 2)) - 0.5 * np.dot(Z.T,Z)\n",
    "    \n",
    "#     return result"
   ]
  },
  {
   "cell_type": "code",
   "execution_count": null,
   "metadata": {},
   "outputs": [],
   "source": []
  },
  {
   "cell_type": "code",
   "execution_count": null,
   "metadata": {},
   "outputs": [],
   "source": []
  },
  {
   "cell_type": "code",
   "execution_count": 51,
   "metadata": {},
   "outputs": [],
   "source": [
    "def log_L(Z, u, V, Beta, alpha, sigma):\n",
    "    #compute full log likelihood of one sample\n",
    "    #debug finished\n",
    "    \n",
    "    alpha = np.array(alpha).reshape((1, -1))\n",
    "    Beta = np.array(Beta).reshape((len(Beta), -1))\n",
    "    Z = np.array(Z).reshape((len(Z), -1))\n",
    "    u = np.array(u).reshape((1, -1))\n",
    "    V = np.array(V).reshape((len(V), -1))\n",
    "    k = len(Z)\n",
    "    tmp = np.dot(Z.T, Beta) + alpha   \n",
    "    \n",
    "    result = tmp * (1 - u) - np.log(1 + np.exp(tmp)) - k * np.log(2 * np.pi) - k * np.log(sigma) - \\\n",
    "            (0.5 * np.dot((Z - V).T, (Z - V)) / (sigma ** 2)) - 0.5 * np.dot(Z.T,Z)\n",
    "    \n",
    "    return result\n",
    "\n",
    "def log_L_grad(Z, u, V, Beta, alpha, sigma):\n",
    "    #compute full log likelihood gradient of one sample\n",
    "    #debug finished\n",
    "    \n",
    "    alpha = np.array(alpha).reshape((1, -1))\n",
    "    Beta = np.array(Beta).reshape((len(Beta), -1))\n",
    "    Z = np.array(Z).reshape((len(Z), -1))\n",
    "    u = np.array(u).reshape((1, -1))\n",
    "    V = np.array(V).reshape((len(V), -1))\n",
    "    k = len(Z)\n",
    "    tmp = np.exp(np.dot(Z.T, Beta) + alpha)\n",
    "    \n",
    "    return np.concatenate(( (1 - u) - tmp/(1+tmp), ((1 - u) - tmp/(1+tmp)) * Z ))  \n",
    "    \n",
    "def log_L_Hessian(Z, u, V, Beta, alpha, sigma):\n",
    "    #compute full log likelihood Hessian matrix of one sample\n",
    "    #debug finished\n",
    "    \n",
    "    alpha = np.array(alpha).reshape((1, -1))\n",
    "    Beta = np.array(Beta).reshape((len(Beta), -1))\n",
    "    Z = np.array(Z).reshape((len(Z), -1))\n",
    "    u = np.array(u).reshape((1, -1))\n",
    "    V = np.array(V).reshape((len(V), -1))\n",
    "    k = len(Z)\n",
    "    \n",
    "    ZZ = np.concatenate( (np.array(1).reshape((1, -1)), Z) )\n",
    "    \n",
    "    tmp = np.exp(np.dot(Z.T, Beta) + alpha) \n",
    "    \n",
    "    return -np.dot(ZZ,ZZ.T) * ((tmp / (1 + tmp)) / (1 + tmp))    "
   ]
  },
  {
   "cell_type": "code",
   "execution_count": null,
   "metadata": {},
   "outputs": [],
   "source": []
  },
  {
   "cell_type": "code",
   "execution_count": null,
   "metadata": {},
   "outputs": [],
   "source": []
  },
  {
   "cell_type": "code",
   "execution_count": 52,
   "metadata": {},
   "outputs": [],
   "source": [
    "from functools import partial\n",
    "def Full_log_L(Zs, us, Vs, Beta, alpha, sigma):\n",
    "    #input Zs is a n x p matrix\n",
    "  \n",
    "    #     a, b = Zs.shape\n",
    "    #     if b != len(Beta):\n",
    "    #         return 'error: dimension does not match'\n",
    "    Zs = Zs.reshape((len(us), len(Beta)))\n",
    "    map_Func = partial(log_L, Beta = Beta, alpha = alpha, sigma = sigma)\n",
    "    #print(Zs.shape)\n",
    "    result = list(map(map_Func, Zs, us, Vs))\n",
    "    #print([i for i in result])\n",
    "    return sum([i for i in result])\n",
    "\n",
    "def Full_log_L_grad(Zs, us, Vs, Beta, alpha, sigma):\n",
    "    Zs = Zs.reshape((len(us), len(Beta)))\n",
    "    \n",
    "    map_Func = partial(log_L_grad, Beta = Beta, alpha = alpha, sigma = sigma)\n",
    "    result = list(map(map_Func, Zs, us, Vs))\n",
    "    #print([i for i in result])\n",
    "    return sum([i for i in result])\n",
    "\n",
    "    \n",
    "def Full_log_L_Hessian(Zs, us, Vs, Beta, alpha, sigma):\n",
    "    \n",
    "    map_Func = partial(log_L_Hessian, Beta = Beta, alpha = alpha, sigma = sigma)\n",
    "    result = list(map(map_Func, Zs, us, Vs))\n",
    "    #print([i for i in result])\n",
    "    return sum([i for i in result])\n"
   ]
  },
  {
   "cell_type": "code",
   "execution_count": null,
   "metadata": {},
   "outputs": [],
   "source": []
  },
  {
   "cell_type": "code",
   "execution_count": null,
   "metadata": {},
   "outputs": [],
   "source": []
  },
  {
   "cell_type": "code",
   "execution_count": null,
   "metadata": {},
   "outputs": [],
   "source": []
  },
  {
   "cell_type": "code",
   "execution_count": null,
   "metadata": {},
   "outputs": [],
   "source": []
  },
  {
   "cell_type": "code",
   "execution_count": 53,
   "metadata": {},
   "outputs": [],
   "source": [
    "def Z_2D_to_1D(Z):\n",
    "    return np.array(Zs).flatten()\n",
    "\n",
    "def Z_1D_to_2D(Z, num_row):\n",
    "    return np.array(Zs).flatten().reshape((num_row, -1))"
   ]
  },
  {
   "cell_type": "code",
   "execution_count": null,
   "metadata": {},
   "outputs": [],
   "source": []
  },
  {
   "cell_type": "code",
   "execution_count": 54,
   "metadata": {},
   "outputs": [
    {
     "data": {
      "text/plain": [
       "array([ 0.55131523, -0.73152773])"
      ]
     },
     "execution_count": 54,
     "metadata": {},
     "output_type": "execute_result"
    }
   ],
   "source": [
    "\n",
    "dim = 2\n",
    "n = 200\n",
    "mvn(mean = [0] * dim, cov = np.identity(dim), size = 1).flatten()"
   ]
  },
  {
   "cell_type": "code",
   "execution_count": 55,
   "metadata": {},
   "outputs": [],
   "source": [
    "# simulation part\n",
    "import numpy as np\n",
    "from random import seed\n",
    "from numpy.random import multivariate_normal as mvn\n",
    "from numpy.random import binomial\n",
    "seed(1234567890)\n",
    "dim = 2\n",
    "n = 200\n",
    "sigma = 1\n",
    "alpha = 0\n",
    "Beta = np.array([1,2])\n",
    "Z1 = mvn(mean = [0] * dim, cov = np.identity(dim), size = n) #Z_1 ... Z_n"
   ]
  },
  {
   "cell_type": "code",
   "execution_count": 56,
   "metadata": {},
   "outputs": [],
   "source": [
    "P1 = [1.0/(1 + np.exp(alpha + np.dot(Z1[i,],Beta.reshape((dim,-1))))) for i in range(n)]\n",
    "U1 = [binomial(n = 1, p = p_i, size = 1) for p_i in P1]\n",
    "V1 = [mvn(mean = Z1[i,], cov = (sigma**2) * np.identity(dim), size = 1).flatten() for i in range(n)]"
   ]
  },
  {
   "cell_type": "code",
   "execution_count": 57,
   "metadata": {},
   "outputs": [],
   "source": [
    "V1 = np.array(V1); U1 = np.array(U1);"
   ]
  },
  {
   "cell_type": "code",
   "execution_count": 58,
   "metadata": {},
   "outputs": [],
   "source": [
    "simulator = HMC_Machine()\n",
    "def U_function(Z, U, V, Beta, alpha, sigma):\n",
    "    \n",
    "    return -Full_log_L(Zs = Z, us = U, Vs = V, Beta = Beta, alpha = alpha, sigma = sigma)\n",
    "\n",
    "def grad_U_function(Z, U, V, Beta, alpha, sigma):\n",
    "    \n",
    "    return -Full_log_L_grad(Zs = Z, us = U, Vs = V, Beta = Beta, alpha = alpha, sigma = sigma)"
   ]
  },
  {
   "cell_type": "code",
   "execution_count": 59,
   "metadata": {},
   "outputs": [
    {
     "data": {
      "text/plain": [
       "array([[0., 0., 0., ..., 0., 0., 0.],\n",
       "       [0., 0., 0., ..., 0., 0., 0.],\n",
       "       [0., 0., 0., ..., 0., 0., 0.],\n",
       "       ...,\n",
       "       [0., 0., 0., ..., 0., 0., 0.],\n",
       "       [0., 0., 0., ..., 0., 0., 0.],\n",
       "       [0., 0., 0., ..., 0., 0., 0.]])"
      ]
     },
     "execution_count": 59,
     "metadata": {},
     "output_type": "execute_result"
    }
   ],
   "source": [
    "#(self, U, current_x, num_simu)\n",
    "simulator.MCMC(U = partial(U_function, U = U1, V = V1, Beta = Beta, alpha = alpha, sigma = sigma), current_x = np.zeros(dim * n), num_simu=100)\n",
    "\n",
    "\n",
    "\n"
   ]
  },
  {
   "cell_type": "code",
   "execution_count": 60,
   "metadata": {},
   "outputs": [
    {
     "name": "stdout",
     "output_type": "stream",
     "text": [
      "(400,) (3, 1)\n"
     ]
    },
    {
     "ename": "ValueError",
     "evalue": "non-broadcastable output operand with shape (400,) doesn't match the broadcast shape (3,400)",
     "output_type": "error",
     "traceback": [
      "\u001b[0;31m---------------------------------------------------------------------------\u001b[0m",
      "\u001b[0;31mValueError\u001b[0m                                Traceback (most recent call last)",
      "\u001b[0;32m<ipython-input-60-836b4497c683>\u001b[0m in \u001b[0;36m<module>\u001b[0;34m\u001b[0m\n\u001b[1;32m      1\u001b[0m simulator.HMC(U = partial(U_function, U = U1, V = V1, Beta = Beta, alpha = alpha, sigma = sigma), \n\u001b[1;32m      2\u001b[0m               \u001b[0mgrad_U\u001b[0m \u001b[0;34m=\u001b[0m \u001b[0mpartial\u001b[0m\u001b[0;34m(\u001b[0m\u001b[0mgrad_U_function\u001b[0m\u001b[0;34m,\u001b[0m \u001b[0mU\u001b[0m \u001b[0;34m=\u001b[0m \u001b[0mU1\u001b[0m\u001b[0;34m,\u001b[0m \u001b[0mV\u001b[0m \u001b[0;34m=\u001b[0m \u001b[0mV1\u001b[0m\u001b[0;34m,\u001b[0m \u001b[0mBeta\u001b[0m \u001b[0;34m=\u001b[0m \u001b[0mBeta\u001b[0m\u001b[0;34m,\u001b[0m \u001b[0malpha\u001b[0m \u001b[0;34m=\u001b[0m \u001b[0malpha\u001b[0m\u001b[0;34m,\u001b[0m \u001b[0msigma\u001b[0m \u001b[0;34m=\u001b[0m \u001b[0msigma\u001b[0m\u001b[0;34m)\u001b[0m\u001b[0;34m,\u001b[0m\u001b[0;31m \u001b[0m\u001b[0;31m\\\u001b[0m\u001b[0;34m\u001b[0m\u001b[0;34m\u001b[0m\u001b[0m\n\u001b[0;32m----> 3\u001b[0;31m                current_q = np.zeros(dim * n), L = 10, epsilon = 0.1, num_simu=10)\n\u001b[0m\u001b[1;32m      4\u001b[0m \u001b[0;34m\u001b[0m\u001b[0m\n\u001b[1;32m      5\u001b[0m \u001b[0;34m\u001b[0m\u001b[0m\n",
      "\u001b[0;32m<ipython-input-48-22e6a7279938>\u001b[0m in \u001b[0;36mHMC\u001b[0;34m(self, U, grad_U, current_q, L, epsilon, num_simu)\u001b[0m\n\u001b[1;32m     45\u001b[0m             \u001b[0mp\u001b[0m \u001b[0;34m=\u001b[0m \u001b[0mcurrent_p\u001b[0m \u001b[0;34m+\u001b[0m \u001b[0;36m0.0\u001b[0m\u001b[0;34m\u001b[0m\u001b[0;34m\u001b[0m\u001b[0m\n\u001b[1;32m     46\u001b[0m             \u001b[0mprint\u001b[0m\u001b[0;34m(\u001b[0m\u001b[0mp\u001b[0m\u001b[0;34m.\u001b[0m\u001b[0mshape\u001b[0m\u001b[0;34m,\u001b[0m\u001b[0mgrad_U\u001b[0m\u001b[0;34m(\u001b[0m\u001b[0mq\u001b[0m\u001b[0;34m)\u001b[0m\u001b[0;34m.\u001b[0m\u001b[0mshape\u001b[0m\u001b[0;34m)\u001b[0m\u001b[0;34m\u001b[0m\u001b[0;34m\u001b[0m\u001b[0m\n\u001b[0;32m---> 47\u001b[0;31m             \u001b[0mp\u001b[0m \u001b[0;34m-=\u001b[0m \u001b[0mepsilon\u001b[0m \u001b[0;34m*\u001b[0m \u001b[0mgrad_U\u001b[0m\u001b[0;34m(\u001b[0m\u001b[0mq\u001b[0m\u001b[0;34m)\u001b[0m \u001b[0;34m/\u001b[0m \u001b[0;36m2\u001b[0m \u001b[0;31m#half step update for momentum p\u001b[0m\u001b[0;34m\u001b[0m\u001b[0;34m\u001b[0m\u001b[0m\n\u001b[0m\u001b[1;32m     48\u001b[0m \u001b[0;34m\u001b[0m\u001b[0m\n\u001b[1;32m     49\u001b[0m             \u001b[0;32mfor\u001b[0m \u001b[0mi\u001b[0m \u001b[0;32min\u001b[0m \u001b[0mrange\u001b[0m\u001b[0;34m(\u001b[0m\u001b[0mL\u001b[0m\u001b[0;34m-\u001b[0m\u001b[0;36m1\u001b[0m\u001b[0;34m)\u001b[0m\u001b[0;34m:\u001b[0m\u001b[0;34m\u001b[0m\u001b[0;34m\u001b[0m\u001b[0m\n",
      "\u001b[0;31mValueError\u001b[0m: non-broadcastable output operand with shape (400,) doesn't match the broadcast shape (3,400)"
     ]
    }
   ],
   "source": [
    "simulator.HMC(U = partial(U_function, U = U1, V = V1, Beta = Beta, alpha = alpha, sigma = sigma), \n",
    "              grad_U = partial(grad_U_function, U = U1, V = V1, Beta = Beta, alpha = alpha, sigma = sigma), \\\n",
    "               current_q = np.zeros(dim * n), L = 10, epsilon = 0.1, num_simu=10)\n",
    "              \n",
    "\n"
   ]
  },
  {
   "cell_type": "code",
   "execution_count": null,
   "metadata": {},
   "outputs": [],
   "source": [
    "HMC(self, U, grad_U, current_q, L, epsilon, num_simu):"
   ]
  },
  {
   "cell_type": "code",
   "execution_count": null,
   "metadata": {},
   "outputs": [],
   "source": []
  },
  {
   "cell_type": "code",
   "execution_count": 101,
   "metadata": {},
   "outputs": [],
   "source": [
    "def U_function(Z, U, V, Beta, alpha, sigma):\n",
    "    \n",
    "    return -Full_log_L(Zs = Z, us = U, Vs = V, Beta = Beta, alpha = alpha, sigma = sigma)\n",
    "\n",
    "def grad_U_function(Z, U, V, Beta, alpha, sigma):\n",
    "    #Z: n x p\n",
    "    #U: n x 1\n",
    "    #Beta: p x 1\n",
    "    \n",
    "    #debug finished\n",
    "    \n",
    "    #the n x p matrxi:\n",
    "    tmp = np.dot(-U, Beta.T) + np.dot( 1.0 /(1 + np.exp(np.dot(Z, Beta) + alpha)), Beta.T) + \\\n",
    "        V / (sigma**2) - Z - Z  / (sigma**2)\n",
    "    \n",
    "    print(V / (sigma**2) - Z - Z  / (sigma**2))\n",
    "    return tmp.flatten()"
   ]
  },
  {
   "cell_type": "code",
   "execution_count": null,
   "metadata": {},
   "outputs": [],
   "source": []
  },
  {
   "cell_type": "code",
   "execution_count": 99,
   "metadata": {},
   "outputs": [],
   "source": [
    "Zs = np.array([[0.5, -0.5], [0.4, -0.3]])\n",
    "us = np.array([0, 1]).reshape((2,1))\n",
    "Vs = np.array([[0.7, -0.6], [0.4, -0.3]])\n",
    "sigma = 1\n",
    "alpha = 0.2\n",
    "Beta = np.array([1,2]).reshape((2,1))"
   ]
  },
  {
   "cell_type": "code",
   "execution_count": 100,
   "metadata": {},
   "outputs": [
    {
     "name": "stdout",
     "output_type": "stream",
     "text": [
      "[[-0.3  0.4]\n",
      " [-0.4  0.3]]\n"
     ]
    },
    {
     "data": {
      "text/plain": [
       "array([ 0.27444252,  1.54888503, -0.9       , -0.7       ])"
      ]
     },
     "execution_count": 100,
     "metadata": {},
     "output_type": "execute_result"
    }
   ],
   "source": [
    "grad_U_function(Zs, us, Vs, Beta, alpha, sigma)"
   ]
  },
  {
   "cell_type": "code",
   "execution_count": 90,
   "metadata": {},
   "outputs": [
    {
     "ename": "SyntaxError",
     "evalue": "invalid syntax (<ipython-input-90-9ee956484522>, line 1)",
     "output_type": "error",
     "traceback": [
      "\u001b[0;36m  File \u001b[0;32m\"<ipython-input-90-9ee956484522>\"\u001b[0;36m, line \u001b[0;32m1\u001b[0m\n\u001b[0;31m    -1.125557  1.548885\u001b[0m\n\u001b[0m                      ^\u001b[0m\n\u001b[0;31mSyntaxError\u001b[0m\u001b[0;31m:\u001b[0m invalid syntax\n"
     ]
    }
   ],
   "source": [
    "0.2744425 1.5488850"
   ]
  },
  {
   "cell_type": "code",
   "execution_count": 85,
   "metadata": {},
   "outputs": [
    {
     "data": {
      "text/plain": [
       "array([-0.5])"
      ]
     },
     "execution_count": 85,
     "metadata": {},
     "output_type": "execute_result"
    }
   ],
   "source": [
    "np.dot(Beta.T,Zs[0,])"
   ]
  },
  {
   "cell_type": "code",
   "execution_count": null,
   "metadata": {},
   "outputs": [],
   "source": []
  },
  {
   "cell_type": "code",
   "execution_count": 944,
   "metadata": {},
   "outputs": [
    {
     "data": {
      "text/plain": [
       "array([[ 0.16237422],\n",
       "       [ 0.10879221],\n",
       "       [-0.17320413]])"
      ]
     },
     "execution_count": 944,
     "metadata": {},
     "output_type": "execute_result"
    }
   ],
   "source": [
    "U_functiFull_log_L_gradon(Z, U, V, Beta, alpha, sigma)"
   ]
  },
  {
   "cell_type": "code",
   "execution_count": null,
   "metadata": {},
   "outputs": [],
   "source": [
    "simulator.MCMC(U_function)"
   ]
  },
  {
   "cell_type": "code",
   "execution_count": 70,
   "metadata": {},
   "outputs": [
    {
     "data": {
      "text/plain": [
       "array([0, 1, 2, 3, 4, 5, 6, 7, 8, 9])"
      ]
     },
     "execution_count": 70,
     "metadata": {},
     "output_type": "execute_result"
    }
   ],
   "source": [
    "a = np.array(list(range(10)));a"
   ]
  },
  {
   "cell_type": "code",
   "execution_count": 73,
   "metadata": {},
   "outputs": [
    {
     "data": {
      "text/plain": [
       "array([0, 1, 2, 3, 4, 5, 6, 7, 8, 9])"
      ]
     },
     "execution_count": 73,
     "metadata": {},
     "output_type": "execute_result"
    }
   ],
   "source": [
    "a.flatten().reshape((5,2)).flatten()"
   ]
  },
  {
   "cell_type": "code",
   "execution_count": 773,
   "metadata": {},
   "outputs": [
    {
     "data": {
      "text/plain": [
       "array([[ 0.5 , -0.5 ],\n",
       "       [ 0.44, -0.3 ]])"
      ]
     },
     "execution_count": 773,
     "metadata": {},
     "output_type": "execute_result"
    }
   ],
   "source": [
    "np.array(Zs).flatten().reshape((2, -1))"
   ]
  },
  {
   "cell_type": "code",
   "execution_count": 774,
   "metadata": {},
   "outputs": [],
   "source": [
    "Zs = [[0.5, -0.5], [0.44, -0.3]]\n",
    "us = [0, 1]\n",
    "Vs =[[0.7, -0.6], [0.4334, -0.323]]"
   ]
  },
  {
   "cell_type": "code",
   "execution_count": 754,
   "metadata": {},
   "outputs": [
    {
     "name": "stdout",
     "output_type": "stream",
     "text": [
      "[array([[-2.13001718]]), array([[-1.37143049]])]\n"
     ]
    }
   ],
   "source": [
    "s = Full_log_L(np.array(Zs), us, Vs, Beta = [1,2], alpha = 0.3, sigma = 0.2)"
   ]
  },
  {
   "cell_type": "code",
   "execution_count": 777,
   "metadata": {},
   "outputs": [
    {
     "data": {
      "text/plain": [
       "array([[ 0.5 , -0.5 ],\n",
       "       [ 0.44, -0.3 ]])"
      ]
     },
     "execution_count": 777,
     "metadata": {},
     "output_type": "execute_result"
    }
   ],
   "source": []
  },
  {
   "cell_type": "code",
   "execution_count": 750,
   "metadata": {},
   "outputs": [
    {
     "name": "stdout",
     "output_type": "stream",
     "text": [
      "[array([[ 0.549834],\n",
      "       [ 0.274917],\n",
      "       [-0.274917]]), array([[-0.53494295],\n",
      "       [-0.2353749 ],\n",
      "       [ 0.16048288]])]\n"
     ]
    },
    {
     "data": {
      "text/plain": [
       "array([[ 0.01489105],\n",
       "       [ 0.0395421 ],\n",
       "       [-0.11443412]])"
      ]
     },
     "execution_count": 750,
     "metadata": {},
     "output_type": "execute_result"
    }
   ],
   "source": [
    "Full_log_L_grad(Zs, us, Vs, Beta = [1,2], alpha = 0.3, sigma = 0.2)"
   ]
  },
  {
   "cell_type": "code",
   "execution_count": 658,
   "metadata": {},
   "outputs": [],
   "source": [
    "from functools import partial\n",
    "#for Zs, us, Vs each element(row) is a sample Z_i\n",
    "#Zs, us, Vs could be np.array or list\n",
    "map_Full_logL_over_Z = partial(Full_log_L, u = [0,1], V = [[0.7, -0.6], [0.4334, -0.323]], Beta = [1,2], alpha = 0.3, sigma = 0.2)\n",
    "result = map(map_Full_log_L, Zs)\n"
   ]
  },
  {
   "cell_type": "code",
   "execution_count": null,
   "metadata": {},
   "outputs": [],
   "source": []
  },
  {
   "cell_type": "code",
   "execution_count": null,
   "metadata": {},
   "outputs": [],
   "source": [
    "from functools import partial\n",
    "#for Zs, us, Vs each element(row) is a sample Z_i\n",
    "#Zs, us, Vs could be np.array or list\n",
    "map_Full_log_L = partial(Full_log_L, Beta = [1,2], alpha = 0.3, sigma = 0.2)\n",
    "result = map(map_Full_log_L, Zs, us, Vs)\n",
    "\n"
   ]
  },
  {
   "cell_type": "code",
   "execution_count": 693,
   "metadata": {},
   "outputs": [
    {
     "data": {
      "text/plain": [
       "-3.501447667619723"
      ]
     },
     "execution_count": 693,
     "metadata": {},
     "output_type": "execute_result"
    }
   ],
   "source": [
    "Zs = [[0.5, -0.5], [0.44, -0.3]]\n",
    "us = [0, 1]\n",
    "Vs =[[0.7, -0.6], [0.4334, -0.323]]\n",
    "from functools import partial\n",
    "mapfunc = partial(log_L, Beta = [1,2], alpha = 0.3, sigma = 0.2)\n",
    "result = map(mapfunc, Zs, us, Vs)\n",
    "sum([i[0][0] for i in result])"
   ]
  },
  {
   "cell_type": "code",
   "execution_count": null,
   "metadata": {},
   "outputs": [],
   "source": []
  },
  {
   "cell_type": "code",
   "execution_count": 74,
   "metadata": {},
   "outputs": [
    {
     "ename": "ValueError",
     "evalue": "operands could not be broadcast together with shapes (3,) (2,) ",
     "output_type": "error",
     "traceback": [
      "\u001b[0;31m---------------------------------------------------------------------------\u001b[0m",
      "\u001b[0;31mValueError\u001b[0m                                Traceback (most recent call last)",
      "\u001b[0;32m<ipython-input-74-cfb8e2bc0464>\u001b[0m in \u001b[0;36m<module>\u001b[0;34m\u001b[0m\n\u001b[0;32m----> 1\u001b[0;31m \u001b[0mnp\u001b[0m\u001b[0;34m.\u001b[0m\u001b[0marray\u001b[0m\u001b[0;34m(\u001b[0m\u001b[0;34m[\u001b[0m\u001b[0;36m1\u001b[0m\u001b[0;34m,\u001b[0m\u001b[0;36m0\u001b[0m\u001b[0;34m,\u001b[0m\u001b[0;36m1\u001b[0m\u001b[0;34m]\u001b[0m\u001b[0;34m)\u001b[0m \u001b[0;34m*\u001b[0m \u001b[0mnp\u001b[0m\u001b[0;34m.\u001b[0m\u001b[0marray\u001b[0m\u001b[0;34m(\u001b[0m\u001b[0;34m[\u001b[0m\u001b[0;36m3.5\u001b[0m\u001b[0;34m,\u001b[0m\u001b[0;36m4.5\u001b[0m\u001b[0;34m]\u001b[0m\u001b[0;34m)\u001b[0m\u001b[0;34m\u001b[0m\u001b[0;34m\u001b[0m\u001b[0m\n\u001b[0m",
      "\u001b[0;31mValueError\u001b[0m: operands could not be broadcast together with shapes (3,) (2,) "
     ]
    }
   ],
   "source": [
    "np.array([1,0,1]) * np.array([3.5,4.5])"
   ]
  },
  {
   "cell_type": "code",
   "execution_count": null,
   "metadata": {},
   "outputs": [],
   "source": []
  },
  {
   "cell_type": "code",
   "execution_count": 642,
   "metadata": {},
   "outputs": [],
   "source": [
    "Full_log_L_Hessian([1,2],0.3,[0.5,-0.5],0,[0.7,-0.6],0.2)"
   ]
  },
  {
   "cell_type": "code",
   "execution_count": null,
   "metadata": {},
   "outputs": [],
   "source": [
    "Full_log_L_grad([1,2],0.3,[0.5,-0.5],0,[0.7,-0.6],0.2)"
   ]
  },
  {
   "cell_type": "code",
   "execution_count": 546,
   "metadata": {},
   "outputs": [],
   "source": [
    "a = -Full_log_L_Hessian([1,2],0.3,[0.5,-0.5],0,[0.7,-0.6],0.2) - \\\n",
    "Full_log_L_Hessian([1,2],0.3,[0.55,-0.55],0,[0.7,-0.6],0.2)"
   ]
  },
  {
   "cell_type": "code",
   "execution_count": 394,
   "metadata": {},
   "outputs": [
    {
     "ename": "ValueError",
     "evalue": "all the input arrays must have same number of dimensions, but the array at index 0 has 1 dimension(s) and the array at index 1 has 0 dimension(s)",
     "output_type": "error",
     "traceback": [
      "\u001b[0;31m---------------------------------------------------------------------------\u001b[0m",
      "\u001b[0;31mValueError\u001b[0m                                Traceback (most recent call last)",
      "\u001b[0;32m<ipython-input-394-5f1ced51ba1d>\u001b[0m in \u001b[0;36m<module>\u001b[0;34m\u001b[0m\n\u001b[0;32m----> 1\u001b[0;31m \u001b[0mnp\u001b[0m\u001b[0;34m.\u001b[0m\u001b[0mconcatenate\u001b[0m\u001b[0;34m(\u001b[0m\u001b[0;34m(\u001b[0m\u001b[0mnp\u001b[0m\u001b[0;34m.\u001b[0m\u001b[0marray\u001b[0m\u001b[0;34m(\u001b[0m\u001b[0;34m[\u001b[0m\u001b[0;36m1\u001b[0m\u001b[0;34m,\u001b[0m\u001b[0;36m23\u001b[0m\u001b[0;34m]\u001b[0m\u001b[0;34m)\u001b[0m\u001b[0;34m,\u001b[0m\u001b[0;36m1\u001b[0m\u001b[0;34m)\u001b[0m\u001b[0;34m)\u001b[0m\u001b[0;34m\u001b[0m\u001b[0;34m\u001b[0m\u001b[0m\n\u001b[0m",
      "\u001b[0;32m<__array_function__ internals>\u001b[0m in \u001b[0;36mconcatenate\u001b[0;34m(*args, **kwargs)\u001b[0m\n",
      "\u001b[0;31mValueError\u001b[0m: all the input arrays must have same number of dimensions, but the array at index 0 has 1 dimension(s) and the array at index 1 has 0 dimension(s)"
     ]
    }
   ],
   "source": [
    "np.concatenate((np.array([1,23]),1))"
   ]
  },
  {
   "cell_type": "code",
   "execution_count": 533,
   "metadata": {},
   "outputs": [
    {
     "data": {
      "text/plain": [
       "array([[1],\n",
       "       [2],\n",
       "       [3]])"
      ]
     },
     "execution_count": 533,
     "metadata": {},
     "output_type": "execute_result"
    }
   ],
   "source": [
    "np.concatenate((a.reshape((2,1)),np.array(3).reshape(1,1)))"
   ]
  },
  {
   "cell_type": "code",
   "execution_count": 664,
   "metadata": {},
   "outputs": [
    {
     "ename": "ValueError",
     "evalue": "not enough values to unpack (expected 2, got 1)",
     "output_type": "error",
     "traceback": [
      "\u001b[0;31m---------------------------------------------------------------------------\u001b[0m",
      "\u001b[0;31mValueError\u001b[0m                                Traceback (most recent call last)",
      "\u001b[0;32m<ipython-input-664-73126d9766c3>\u001b[0m in \u001b[0;36m<module>\u001b[0;34m\u001b[0m\n\u001b[1;32m      1\u001b[0m \u001b[0ma\u001b[0m \u001b[0;34m=\u001b[0m \u001b[0mnp\u001b[0m\u001b[0;34m.\u001b[0m\u001b[0marray\u001b[0m\u001b[0;34m(\u001b[0m\u001b[0;34m[\u001b[0m\u001b[0;36m1\u001b[0m\u001b[0;34m,\u001b[0m\u001b[0;36m2\u001b[0m\u001b[0;34m]\u001b[0m\u001b[0;34m)\u001b[0m\u001b[0;34m;\u001b[0m\u001b[0ma\u001b[0m \u001b[0;34m+\u001b[0m \u001b[0;36m2\u001b[0m\u001b[0;34m\u001b[0m\u001b[0;34m\u001b[0m\u001b[0m\n\u001b[0;32m----> 2\u001b[0;31m \u001b[0mc\u001b[0m\u001b[0;34m,\u001b[0m\u001b[0md\u001b[0m \u001b[0;34m=\u001b[0m \u001b[0ma\u001b[0m\u001b[0;34m.\u001b[0m\u001b[0mshape\u001b[0m\u001b[0;34m\u001b[0m\u001b[0;34m\u001b[0m\u001b[0m\n\u001b[0m",
      "\u001b[0;31mValueError\u001b[0m: not enough values to unpack (expected 2, got 1)"
     ]
    }
   ],
   "source": [
    "a = np.array([1,2]);a + 2\n",
    "c,d = a.shape"
   ]
  },
  {
   "cell_type": "code",
   "execution_count": 529,
   "metadata": {},
   "outputs": [
    {
     "data": {
      "text/plain": [
       "array([[1],\n",
       "       [2]])"
      ]
     },
     "execution_count": 529,
     "metadata": {},
     "output_type": "execute_result"
    }
   ],
   "source": [
    "a.reshape((1,2)).T"
   ]
  },
  {
   "cell_type": "code",
   "execution_count": 429,
   "metadata": {},
   "outputs": [
    {
     "ename": "ValueError",
     "evalue": "all the input arrays must have same number of dimensions, but the array at index 0 has 2 dimension(s) and the array at index 1 has 0 dimension(s)",
     "output_type": "error",
     "traceback": [
      "\u001b[0;31m---------------------------------------------------------------------------\u001b[0m",
      "\u001b[0;31mValueError\u001b[0m                                Traceback (most recent call last)",
      "\u001b[0;32m<ipython-input-429-5f9f7aab487d>\u001b[0m in \u001b[0;36m<module>\u001b[0;34m\u001b[0m\n\u001b[0;32m----> 1\u001b[0;31m \u001b[0mnp\u001b[0m\u001b[0;34m.\u001b[0m\u001b[0mconcatenate\u001b[0m\u001b[0;34m(\u001b[0m\u001b[0;34m(\u001b[0m\u001b[0ma\u001b[0m\u001b[0;34m.\u001b[0m\u001b[0mreshape\u001b[0m\u001b[0;34m(\u001b[0m\u001b[0;34m(\u001b[0m\u001b[0;36m2\u001b[0m\u001b[0;34m,\u001b[0m\u001b[0;34m-\u001b[0m\u001b[0;36m1\u001b[0m\u001b[0;34m)\u001b[0m\u001b[0;34m)\u001b[0m\u001b[0;34m,\u001b[0m\u001b[0mnp\u001b[0m\u001b[0;34m.\u001b[0m\u001b[0marray\u001b[0m\u001b[0;34m(\u001b[0m\u001b[0;36m3\u001b[0m\u001b[0;34m)\u001b[0m\u001b[0;34m)\u001b[0m\u001b[0;34m)\u001b[0m\u001b[0;34m.\u001b[0m\u001b[0mshape\u001b[0m\u001b[0;34m\u001b[0m\u001b[0;34m\u001b[0m\u001b[0m\n\u001b[0m",
      "\u001b[0;32m<__array_function__ internals>\u001b[0m in \u001b[0;36mconcatenate\u001b[0;34m(*args, **kwargs)\u001b[0m\n",
      "\u001b[0;31mValueError\u001b[0m: all the input arrays must have same number of dimensions, but the array at index 0 has 2 dimension(s) and the array at index 1 has 0 dimension(s)"
     ]
    }
   ],
   "source": [
    "np.concatenate((a.reshape((2,-1)),np.array(3).reshape(1,-1))).shape"
   ]
  },
  {
   "cell_type": "code",
   "execution_count": 424,
   "metadata": {},
   "outputs": [],
   "source": [
    "a = a.reshape([2,1])"
   ]
  },
  {
   "cell_type": "code",
   "execution_count": 425,
   "metadata": {},
   "outputs": [
    {
     "data": {
      "text/plain": [
       "array([[1],\n",
       "       [2]])"
      ]
     },
     "execution_count": 425,
     "metadata": {},
     "output_type": "execute_result"
    }
   ],
   "source": [
    "a"
   ]
  },
  {
   "cell_type": "code",
   "execution_count": 450,
   "metadata": {},
   "outputs": [
    {
     "data": {
      "text/plain": [
       "(3, 1)"
      ]
     },
     "execution_count": 450,
     "metadata": {},
     "output_type": "execute_result"
    }
   ],
   "source": [
    "np.concatenate((a.reshape((2,-1)),c).shape"
   ]
  },
  {
   "cell_type": "code",
   "execution_count": 440,
   "metadata": {},
   "outputs": [
    {
     "data": {
      "text/plain": [
       "array([3])"
      ]
     },
     "execution_count": 440,
     "metadata": {},
     "output_type": "execute_result"
    }
   ],
   "source": [
    "np.array([3])"
   ]
  },
  {
   "cell_type": "code",
   "execution_count": 452,
   "metadata": {},
   "outputs": [
    {
     "data": {
      "text/plain": [
       "2"
      ]
     },
     "execution_count": 452,
     "metadata": {},
     "output_type": "execute_result"
    }
   ],
   "source": [
    "len(a.reshape((2,-1)))"
   ]
  },
  {
   "cell_type": "code",
   "execution_count": 454,
   "metadata": {},
   "outputs": [],
   "source": [
    "x = a.reshape((2,-1))\n",
    "y = np.array(3).reshape(1,-1)"
   ]
  },
  {
   "cell_type": "code",
   "execution_count": 458,
   "metadata": {},
   "outputs": [
    {
     "data": {
      "text/plain": [
       "array([[1],\n",
       "       [2],\n",
       "       [3]])"
      ]
     },
     "execution_count": 458,
     "metadata": {},
     "output_type": "execute_result"
    }
   ],
   "source": [
    "np.concatenate((x,y))"
   ]
  },
  {
   "cell_type": "code",
   "execution_count": 463,
   "metadata": {},
   "outputs": [],
   "source": [
    "Z = [1,2,3]"
   ]
  },
  {
   "cell_type": "code",
   "execution_count": 464,
   "metadata": {},
   "outputs": [
    {
     "data": {
      "text/plain": [
       "array([1, 2, 3])"
      ]
     },
     "execution_count": 464,
     "metadata": {},
     "output_type": "execute_result"
    }
   ],
   "source": [
    "Z = np.array(Z);Z"
   ]
  },
  {
   "cell_type": "code",
   "execution_count": 465,
   "metadata": {},
   "outputs": [
    {
     "data": {
      "text/plain": [
       "array([1, 2, 3])"
      ]
     },
     "execution_count": 465,
     "metadata": {},
     "output_type": "execute_result"
    }
   ],
   "source": [
    "Z = np.array(Z);Z"
   ]
  },
  {
   "cell_type": "code",
   "execution_count": 481,
   "metadata": {},
   "outputs": [
    {
     "data": {
      "text/plain": [
       "32.0"
      ]
     },
     "execution_count": 481,
     "metadata": {},
     "output_type": "execute_result"
    }
   ],
   "source": [
    "np.linalg.det(np.diag([1]*5)*2)"
   ]
  },
  {
   "cell_type": "code",
   "execution_count": 480,
   "metadata": {},
   "outputs": [
    {
     "data": {
      "text/plain": [
       "array([[2, 0, 0, 0, 0],\n",
       "       [0, 2, 0, 0, 0],\n",
       "       [0, 0, 2, 0, 0],\n",
       "       [0, 0, 0, 2, 0],\n",
       "       [0, 0, 0, 0, 2]])"
      ]
     },
     "execution_count": 480,
     "metadata": {},
     "output_type": "execute_result"
    }
   ],
   "source": [
    "np.diag([1]*5)*2"
   ]
  },
  {
   "cell_type": "code",
   "execution_count": 488,
   "metadata": {},
   "outputs": [],
   "source": [
    "x = 1 + 3 + \\\n",
    "4"
   ]
  },
  {
   "cell_type": "code",
   "execution_count": 489,
   "metadata": {},
   "outputs": [
    {
     "data": {
      "text/plain": [
       "8"
      ]
     },
     "execution_count": 489,
     "metadata": {},
     "output_type": "execute_result"
    }
   ],
   "source": [
    "x"
   ]
  },
  {
   "cell_type": "code",
   "execution_count": 551,
   "metadata": {},
   "outputs": [
    {
     "name": "stdout",
     "output_type": "stream",
     "text": [
      " this string contains a and b\n",
      " this string contains c and d\n"
     ]
    }
   ],
   "source": [
    "def sentence( x, y):\n",
    "    return \" this string contains %s and %s\" % (x,y)\n",
    "matrix = [['a','b'],['c','d']]\n",
    "\n",
    "output = map(lambda a: sentence(a[0],a[1]), matrix)\n",
    "\n",
    "# Print the top level\n",
    "for i in output:\n",
    "    print(i)"
   ]
  },
  {
   "cell_type": "code",
   "execution_count": null,
   "metadata": {},
   "outputs": [],
   "source": [
    "#抽出来的样本每一行都包含了 n 个 p 维（np x 1）的 hidden variable\n",
    "#需要把这一行变成 n x p 的矩阵再feed 进似然函数"
   ]
  }
 ],
 "metadata": {
  "kernelspec": {
   "display_name": "Python 3",
   "language": "python",
   "name": "python3"
  },
  "language_info": {
   "codemirror_mode": {
    "name": "ipython",
    "version": 3
   },
   "file_extension": ".py",
   "mimetype": "text/x-python",
   "name": "python",
   "nbconvert_exporter": "python",
   "pygments_lexer": "ipython3",
   "version": "3.6.10"
  }
 },
 "nbformat": 4,
 "nbformat_minor": 2
}
